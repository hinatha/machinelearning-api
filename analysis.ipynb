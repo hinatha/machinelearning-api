{
 "cells": [
  {
   "cell_type": "code",
   "execution_count": 3,
   "id": "b23c72c3-371f-466f-86b3-72c9f9420fd7",
   "metadata": {},
   "outputs": [
    {
     "name": "stdout",
     "output_type": "stream",
     "text": [
      "手書き文字の判別結果\n",
      "観測結果: [0 1 2 3 4 5 6 7 8 9]\n",
      "予測結果: [4 4 4 4 4 4 4 7 4 4]\n",
      "正解率: 0.2\n"
     ]
    },
    {
     "name": "stderr",
     "output_type": "stream",
     "text": [
      "/Users/H.Kondo/opt/anaconda3/lib/python3.9/site-packages/sklearn/linear_model/_logistic.py:763: ConvergenceWarning: lbfgs failed to converge (status=1):\n",
      "STOP: TOTAL NO. of ITERATIONS REACHED LIMIT.\n",
      "\n",
      "Increase the number of iterations (max_iter) or scale the data as shown in:\n",
      "    https://scikit-learn.org/stable/modules/preprocessing.html\n",
      "Please also refer to the documentation for alternative solver options:\n",
      "    https://scikit-learn.org/stable/modules/linear_model.html#logistic-regression\n",
      "  n_iter_i = _check_optimize_result(\n"
     ]
    }
   ],
   "source": [
    "import os\n",
    "import numpy as np\n",
    "from PIL import Image\n",
    "import sqlite3\n",
    "from sklearn.datasets import load_digits\n",
    "from sklearn.linear_model import LogisticRegression\n",
    "from sklearn.model_selection import train_test_split\n",
    "\n",
    "INCLUDED_EXTENTION = [\".png\", \".jpg\"]\n",
    "\n",
    "# Specify photo holder and get file name for matadata.\n",
    "# Make database or connect db if db already exists.\n",
    "dbname = 'images.db'\n",
    "# Make connection object to db.\n",
    "conn = sqlite3.connect(dbname)\n",
    "# Make cursor object to operate sqlite.\n",
    "cur = conn.cursor()\n",
    "# Initializaion of db.\n",
    "cur.execute('DROP TABLE image_info')\n",
    "cur.execute('CREATE TABLE image_info (id INTEGER PRIMARY KEY AUTOINCREMENT, filename STRING)')\n",
    "# Commit to db and save change things.\n",
    "conn.commit()\n",
    "conn.close()\n",
    "\n",
    "# Insert to db filename of photo.\n",
    "conn = sqlite3.connect(dbname)\n",
    "cur = conn.cursor()\n",
    "filenames = sorted(os.listdir('handwriting_pics'))\n",
    "for filename in filenames:\n",
    "    base, ext = os.path.splitext(filename)\n",
    "    if ext not in INCLUDED_EXTENTION:\n",
    "        continue\n",
    "    cur.execute('INSERT INTO image_info(filename) values(?)', (filename,))\n",
    "conn.commit()\n",
    "cur.close()\n",
    "conn.close()\n",
    "\n",
    "# Get table context.\n",
    "conn = sqlite3.connect(dbname)\n",
    "cur = conn.cursor()\n",
    "cur.execute('SELECT * FROM image_info')\n",
    "# Get photo data\n",
    "pics_info = cur.fetchall()\n",
    "cur.close()\n",
    "conn.close()\n",
    "\n",
    "# Data Preprocessing\n",
    "img_test = np.empty((0, 64))\n",
    "# Digitization of all photos in folder.\n",
    "for pic_info in pics_info:\n",
    "    filename = pic_info[1]\n",
    "    # Get photo data and grayscale.\n",
    "    base, ext = os.path.splitext(filename)\n",
    "    if ext not in INCLUDED_EXTENTION:\n",
    "        continue\n",
    "    img = Image.open(f'handwriting_pics/{filename}').convert('L')\n",
    "    img_data256 = 255 - np.array(img.resize((8, 8)))\n",
    "\n",
    "    # Calculate photodata to do minvalue=0, maxvalue=16. \n",
    "    min_bright = img_data256.min()\n",
    "    max_bright = img_data256.max()\n",
    "    img_data16 = (img_data256 - min_bright) / (max_bright - min_bright) * 16\n",
    "    # Summarize photodata array.\n",
    "    img_test = np.r_[img_test, img_data16.astype(np.uint8).reshape(1, -1)]\n",
    "\n",
    "# Learn data.\n",
    "digits = load_digits()\n",
    "X = digits.data\n",
    "y = digits.target\n",
    "X_train, X_test, y_train, y_test = train_test_split(X, y, test_size=0.5, random_state=0)\n",
    "logreg = LogisticRegression(max_iter=2000)\n",
    "logreg_model = logreg.fit(X_train, y_train)\n",
    "\n",
    "# Arrays true data.\n",
    "X_true = []\n",
    "for filename in filenames:\n",
    "    base, ext = os.path.splitext(filename)\n",
    "    if ext not in INCLUDED_EXTENTION:\n",
    "        continue\n",
    "    X_true = X_true + [int(filename[:1])]\n",
    "X_true = np.array(X_true)\n",
    "\n",
    "# Predict data.\n",
    "pred_logreg = logreg_model.predict(img_test)\n",
    "\n",
    "print('手書き文字の判別結果')\n",
    "print('観測結果:', X_true)\n",
    "print('予測結果:', pred_logreg)\n",
    "print('正解率:', logreg_model.score(img_test, X_true))"
   ]
  },
  {
   "cell_type": "markdown",
   "id": "082771f1-e978-45a5-8da4-8926f9159746",
   "metadata": {},
   "source": [
    "## Devide module and function"
   ]
  },
  {
   "cell_type": "code",
   "execution_count": 4,
   "id": "37e47173-b011-4513-8a76-b3405575787f",
   "metadata": {},
   "outputs": [],
   "source": [
    "import os\n",
    "import numpy as np\n",
    "from PIL import Image\n",
    "import sqlite3\n",
    "from sklearn.datasets import load_digits\n",
    "from sklearn.linear_model import LogisticRegression\n",
    "from sklearn.model_selection import train_test_split"
   ]
  },
  {
   "cell_type": "markdown",
   "id": "f2e1316c-8c97-48d8-8d08-9c14c20626f4",
   "metadata": {},
   "source": [
    "### Access to data"
   ]
  },
  {
   "cell_type": "code",
   "execution_count": 5,
   "id": "5391496d-f4ab-4e48-b57b-8cda4ca5adbd",
   "metadata": {},
   "outputs": [
    {
     "name": "stdout",
     "output_type": "stream",
     "text": [
      "table is successully created\n",
      "image file names are successully inserted\n"
     ]
    },
    {
     "data": {
      "text/plain": [
       "[(1, '0.jpg'),\n",
       " (2, '1.jpg'),\n",
       " (3, '2.jpg'),\n",
       " (4, '3.jpg'),\n",
       " (5, '4.jpg'),\n",
       " (6, '5.jpg'),\n",
       " (7, '6.jpg'),\n",
       " (8, '7.jpg'),\n",
       " (9, '8.jpg'),\n",
       " (10, '9.jpg')]"
      ]
     },
     "execution_count": 5,
     "metadata": {},
     "output_type": "execute_result"
    }
   ],
   "source": [
    "INCLUDED_EXTENTION = [\".png\", \".jpg\"]\n",
    "dbname = 'images.db'\n",
    "dir_name = 'handwriting_pics'\n",
    "\n",
    "def load_filenames(dir_name, included_ext=INCLUDED_EXTENTION):\n",
    "    \"\"\"手書き文字画像が置いてあるパスからファイル名を取得し、リストを作成\"\"\"\n",
    "    files = []\n",
    "    filenames = sorted(os.listdir(dir_name))\n",
    "    for filename in filenames:\n",
    "        base, ext = os.path.splitext(filename)\n",
    "        if ext not in included_ext:\n",
    "            continue\n",
    "        files.append(filename)\n",
    "    return files\n",
    "\n",
    "def create_table(dbname):\n",
    "    \"\"\"テーブルを作成する関数\"\"\"\n",
    "    conn = sqlite3.connect(dbname)\n",
    "    cur = conn.cursor()\n",
    "    cur.execute('DROP TABLE image_info')\n",
    "    cur.execute( 'CREATE TABLE image_info (id INTEGER PRIMARY KEY AUTOINCREMENT, filename STRING)')\n",
    "    conn.commit()\n",
    "    conn.close()\n",
    "    print(\"table is successully created\")\n",
    "\n",
    "def insert_filenames(dbname, dir_name):\n",
    "    \"\"\"手書き文字画像のファイル名をデータベースに保存\"\"\"\n",
    "    filenames = load_filenames(dir_name)\n",
    "    conn = sqlite3.connect(dbname)\n",
    "    cur = conn.cursor()\n",
    "    for filename in filenames:\n",
    "        cur.execute('INSERT INTO image_info(filename) values(?)', (filename,))\n",
    "    conn.commit()\n",
    "    cur.close()\n",
    "    conn.close()\n",
    "    print(\"image file names are successully inserted\")\n",
    "\n",
    "def extract_filenames(dbname):\n",
    "    \"\"\"手書き文字画像のファイル名をデータベースから取得\"\"\"\n",
    "    conn = sqlite3.connect(dbname)\n",
    "    cur = conn.cursor()\n",
    "    cur.execute( 'SELECT * FROM image_info')\n",
    "    filenames = cur.fetchall()\n",
    "    cur.close()\n",
    "    conn.close()\n",
    "    return filenames\n",
    "\n",
    "create_table(dbname)\n",
    "insert_filenames(dbname, dir_name)\n",
    "extract_filenames(dbname)"
   ]
  },
  {
   "cell_type": "markdown",
   "id": "1be4a01a-acb0-43fb-9af7-48fdeda27a32",
   "metadata": {},
   "source": [
    "### Data preprocessing"
   ]
  },
  {
   "cell_type": "code",
   "execution_count": 6,
   "id": "e134e86e-9782-47ec-8725-529a414d8a25",
   "metadata": {},
   "outputs": [
    {
     "data": {
      "text/plain": [
       "array([[ 0.,  0.,  0.,  0.,  0.,  0.,  0.,  0.,  0.,  0.,  0.,  0.,  0.,\n",
       "         0.,  0.,  0.,  0.,  0.,  0.,  8., 16.,  0.,  0.,  0.,  0.,  0.,\n",
       "         0., 16., 16.,  8.,  0.,  0.,  0.,  0.,  0.,  8.,  8.,  8.,  0.,\n",
       "         0.,  0.,  0.,  0.,  8., 16.,  0.,  0.,  0.,  0.,  0.,  0.,  0.,\n",
       "         0.,  0.,  0.,  0.,  0.,  0.,  0.,  0.,  0.,  0.,  0.,  0.],\n",
       "       [ 0.,  0.,  0.,  0.,  0.,  0.,  0.,  0.,  0.,  0.,  0.,  0.,  0.,\n",
       "         0.,  0.,  0.,  0.,  0.,  0., 16.,  0.,  0.,  0.,  0.,  0.,  0.,\n",
       "         0.,  8.,  0.,  0.,  0.,  0.,  0.,  0.,  0.,  8.,  0.,  0.,  0.,\n",
       "         0.,  0.,  0.,  0.,  0.,  0.,  0.,  0.,  0.,  0.,  0.,  0.,  0.,\n",
       "         0.,  0.,  0.,  0.,  0.,  0.,  0.,  0.,  0.,  0.,  0.,  0.],\n",
       "       [ 0.,  0.,  0.,  0.,  0.,  0.,  0.,  0.,  0.,  0.,  0.,  3.,  3.,\n",
       "         0.,  0.,  0.,  0.,  0.,  0.,  6.,  3.,  0.,  0.,  0.,  0.,  0.,\n",
       "         3.,  3.,  3.,  0.,  0.,  0.,  0.,  0.,  0.,  0.,  9.,  3.,  0.,\n",
       "         0.,  0.,  0.,  3., 16.,  9.,  6.,  0.,  0.,  0.,  0.,  3.,  3.,\n",
       "         0.,  0.,  0.,  0.,  0.,  0.,  0.,  0.,  0.,  0.,  0.,  0.],\n",
       "       [ 0.,  0.,  0.,  0.,  0.,  0.,  0.,  0.,  0.,  0.,  8.,  8., 10.,\n",
       "         0.,  0.,  0.,  0.,  2.,  8., 10., 13.,  0.,  0.,  0.,  0.,  5.,\n",
       "        16., 13., 10., 10.,  2.,  0.,  0.,  0.,  0.,  0.,  0., 10.,  5.,\n",
       "         0.,  0.,  8., 10., 10., 10.,  8.,  0.,  0.,  0.,  0.,  2.,  0.,\n",
       "         0.,  0.,  0.,  0.,  0.,  0.,  0.,  0.,  0.,  0.,  0.,  0.],\n",
       "       [ 0.,  0.,  0.,  4.,  2.,  0.,  0.,  0.,  0.,  0.,  2., 16.,  2.,\n",
       "         0.,  0.,  0.,  0.,  2., 10.,  8.,  2.,  0.,  0.,  0.,  0.,  8.,\n",
       "        12., 16., 12.,  8.,  0.,  0.,  0.,  0.,  0.,  8.,  4.,  2.,  0.,\n",
       "         0.,  0.,  0.,  0.,  8.,  2.,  0.,  0.,  0.,  0.,  0.,  0.,  2.,\n",
       "         0.,  0.,  0.,  0.,  0.,  0.,  0.,  0.,  0.,  0.,  0.,  0.],\n",
       "       [ 0.,  0.,  0.,  0.,  0.,  0.,  0.,  0.,  0.,  6.,  6.,  0.,  0.,\n",
       "         0.,  0.,  0.,  0., 12., 16., 12.,  9.,  0.,  0.,  0.,  0.,  9.,\n",
       "         9.,  9.,  6.,  0.,  0.,  0.,  0.,  3.,  9.,  6.,  9.,  9.,  0.,\n",
       "         0.,  0.,  0.,  3.,  3.,  9., 12.,  0.,  0.,  0.,  0.,  9.,  9.,\n",
       "         6.,  0.,  0.,  0.,  0.,  0.,  0.,  0.,  0.,  0.,  0.,  0.],\n",
       "       [ 0.,  0.,  5.,  2.,  0.,  0.,  0.,  0.,  0.,  8.,  8.,  2.,  0.,\n",
       "         0.,  0.,  0.,  0., 10.,  0.,  0.,  0.,  0.,  0.,  0.,  0., 16.,\n",
       "        10., 10.,  8.,  0.,  0.,  0.,  0., 10.,  5.,  0.,  8.,  5.,  0.,\n",
       "         0.,  0.,  0., 10.,  5.,  8.,  8.,  0.,  0.,  0.,  0.,  0.,  5.,\n",
       "         8.,  0.,  0.,  0.,  0.,  0.,  0.,  0.,  0.,  0.,  0.,  0.],\n",
       "       [ 0.,  0.,  0.,  0.,  0.,  0.,  0.,  0.,  0., 12., 12., 12., 12.,\n",
       "         8.,  0.,  0.,  4., 16.,  4.,  4.,  8., 16.,  0.,  0.,  0.,  0.,\n",
       "         0.,  0., 12.,  8.,  0.,  0.,  0.,  0.,  0.,  0., 16.,  0.,  0.,\n",
       "         0.,  0.,  0.,  0.,  8., 12.,  0.,  0.,  0.,  0.,  0.,  0.,  8.,\n",
       "         4.,  0.,  0.,  0.,  0.,  0.,  0.,  0.,  0.,  0.,  0.,  0.],\n",
       "       [ 0.,  0.,  4.,  2.,  0.,  0.,  0.,  0.,  0.,  8.,  6.,  8.,  4.,\n",
       "         0.,  0.,  0.,  0.,  8.,  4.,  0., 10.,  2.,  0.,  0.,  0.,  0.,\n",
       "        10., 16.,  8.,  0.,  0.,  0.,  0.,  4.,  8.,  2.,  8.,  0.,  0.,\n",
       "         0.,  0., 10.,  0.,  0.,  8.,  0.,  0.,  0.,  0.,  4.,  8.,  8.,\n",
       "         2.,  0.,  0.,  0.,  0.,  0.,  0.,  0.,  0.,  0.,  0.,  0.],\n",
       "       [ 0.,  2.,  4.,  2.,  2.,  0.,  0.,  0.,  2.,  8.,  4.,  4.,  6.,\n",
       "         6.,  2.,  0.,  0.,  8.,  2.,  0.,  0., 16.,  4.,  0.,  0.,  2.,\n",
       "         8.,  6.,  8., 12.,  0.,  0.,  0.,  0.,  0.,  0.,  8.,  2.,  0.,\n",
       "         0.,  0.,  0.,  0.,  2.,  6.,  0.,  0.,  0.,  0.,  0.,  0.,  6.,\n",
       "         2.,  0.,  0.,  0.,  0.,  0.,  0.,  2.,  0.,  0.,  0.,  0.]])"
      ]
     },
     "execution_count": 6,
     "metadata": {},
     "output_type": "execute_result"
    }
   ],
   "source": [
    "def load_filenames(dir_name, included_ext=INCLUDED_EXTENTION):\n",
    "    \"\"\"手書き文字画像が置いてあるパスからファイル名を取得し、リストを作成する関数\"\"\"\n",
    "    files = []\n",
    "    filenames = sorted(os.listdir(dir_name))\n",
    "    for filename in filenames:\n",
    "        base, ext = os.path.splitext(filename)\n",
    "        if ext not in included_ext:\n",
    "            continue\n",
    "        files.append(filename)\n",
    "    return files\n",
    "\n",
    "def get_grayscale(dir_name):\n",
    "    \"\"\"読み込んだ手書き文字画像の色をグレースケールに変換する関数 (グレースケールは色の濃淡の明暗を分ける技法のことです。)\"\"\"\n",
    "    filenames = load_filenames(dir_name)\n",
    "    for filename in filenames:\n",
    "        img = Image.open(f'{dir_name}/{filename}').convert('L')\n",
    "        yield img\n",
    "\n",
    "def get_shrinked_img(dir_name):\n",
    "    \"\"\"画像サイズを8×8ピクセルのサイズに統一し、明るさも16階調のグレイスケールで白黒に変換する関数\"\"\"\n",
    "    img_test = np.empty((0, 64))\n",
    "    crop_size = 8\n",
    "    for img in get_grayscale(dir_name):\n",
    "        img_data256 = 255 - np.array(img.resize((crop_size, crop_size)))\n",
    "        min_bright, max_bright = img_data256.min(),  img_data256.max()\n",
    "        img_data16 = (img_data256 - min_bright) / (max_bright - min_bright) * 16\n",
    "        img_test = np.r_[img_test, img_data16.astype(np.uint8).reshape(1, -1)]\n",
    "    return img_test\n",
    "\n",
    "img_test = get_shrinked_img(dir_name)\n",
    "get_shrinked_img(dir_name)"
   ]
  },
  {
   "cell_type": "markdown",
   "id": "899ceea8-e1b0-4634-9cd8-71750abc47ea",
   "metadata": {},
   "source": [
    "### Learn, predict and calculate data"
   ]
  },
  {
   "cell_type": "code",
   "execution_count": 7,
   "id": "78d7c387-61f6-4ed3-bd4c-eeb698f9238d",
   "metadata": {},
   "outputs": [
    {
     "name": "stdout",
     "output_type": "stream",
     "text": [
      "手書き文字の判別結果\n",
      "観測結果: [0 1 2 3 4 5 6 7 8 9]\n",
      "予測結果: [4 4 4 4 4 4 4 7 4 4]\n",
      "正解率: 0.2\n"
     ]
    },
    {
     "name": "stderr",
     "output_type": "stream",
     "text": [
      "/Users/H.Kondo/opt/anaconda3/lib/python3.9/site-packages/sklearn/linear_model/_logistic.py:763: ConvergenceWarning: lbfgs failed to converge (status=1):\n",
      "STOP: TOTAL NO. of ITERATIONS REACHED LIMIT.\n",
      "\n",
      "Increase the number of iterations (max_iter) or scale the data as shown in:\n",
      "    https://scikit-learn.org/stable/modules/preprocessing.html\n",
      "Please also refer to the documentation for alternative solver options:\n",
      "    https://scikit-learn.org/stable/modules/linear_model.html#logistic-regression\n",
      "  n_iter_i = _check_optimize_result(\n"
     ]
    },
    {
     "data": {
      "text/plain": [
       "'Propability calculation is successfully finished'"
      ]
     },
     "execution_count": 7,
     "metadata": {},
     "output_type": "execute_result"
    }
   ],
   "source": [
    "import os\n",
    "import numpy as np\n",
    "from PIL import Image\n",
    "from sklearn.datasets import load_digits\n",
    "from sklearn.linear_model import LogisticRegression\n",
    "from sklearn.model_selection import train_test_split\n",
    "\n",
    "def load_filenames(dir_name, included_ext=INCLUDED_EXTENTION):\n",
    "    \"\"\"手書き文字画像が置いてあるパスからファイル名を取得し、リストを作成\"\"\"\n",
    "    files = []\n",
    "    filenames = sorted(os.listdir(dir_name))\n",
    "    for filename in filenames:\n",
    "        base, ext = os.path.splitext(filename)\n",
    "        if ext not in included_ext:\n",
    "            continue\n",
    "        files.append(filename)\n",
    "    return files\n",
    "\n",
    "def create_logreg_model():\n",
    "    \"\"\"ロジスティック回帰の学習済みモデルを生成\"\"\"\n",
    "    digits = load_digits()\n",
    "    X = digits.data\n",
    "    y = digits.target\n",
    "    X_train, X_test, y_train, y_test = train_test_split(X, y, test_size=0.5, random_state=0)\n",
    "    logreg = LogisticRegression(max_iter=2000)\n",
    "    logreg_model = logreg.fit(X_train, y_train)\n",
    "    return logreg_model\n",
    "\n",
    "def evaluate_probs(dir_name, img_test, logreg_model):\n",
    "    \"\"\"テストデータを利用してロジスティック回帰の学習済みモデルのアウトプットを評価\"\"\"\n",
    "    filenames = load_filenames(dir_name)\n",
    "    X_true = [int(filename[:1]) for filename in filenames]  \n",
    "    X_true = np.array(X_true)\n",
    "    pred_logreg = logreg_model.predict(img_test)\n",
    "    \n",
    "    print('手書き文字の判別結果')\n",
    "    print('観測結果:', X_true)\n",
    "    print('予測結果:', pred_logreg)\n",
    "    print('正解率:', logreg_model.score(img_test, X_true))\n",
    "    return \"Propability calculation is successfully finished\"\n",
    "\n",
    "logreg_model = create_logreg_model()\n",
    "evaluate_probs(dir_name, img_test, logreg_model)\n"
   ]
  },
  {
   "cell_type": "markdown",
   "id": "1c992d6c-fa66-4b8d-8c17-a508921198f8",
   "metadata": {},
   "source": [
    "## Make learned MLmodel"
   ]
  },
  {
   "cell_type": "code",
   "execution_count": 8,
   "id": "45cb4004-2ffc-480f-b1a4-06a514077e98",
   "metadata": {},
   "outputs": [
    {
     "name": "stderr",
     "output_type": "stream",
     "text": [
      "/Users/H.Kondo/opt/anaconda3/lib/python3.9/site-packages/sklearn/linear_model/_logistic.py:763: ConvergenceWarning: lbfgs failed to converge (status=1):\n",
      "STOP: TOTAL NO. of ITERATIONS REACHED LIMIT.\n",
      "\n",
      "Increase the number of iterations (max_iter) or scale the data as shown in:\n",
      "    https://scikit-learn.org/stable/modules/preprocessing.html\n",
      "Please also refer to the documentation for alternative solver options:\n",
      "    https://scikit-learn.org/stable/modules/linear_model.html#logistic-regression\n",
      "  n_iter_i = _check_optimize_result(\n"
     ]
    }
   ],
   "source": [
    "import pickle\n",
    "from sklearn.datasets import load_digits\n",
    "from sklearn.linear_model import LogisticRegression\n",
    "from sklearn.model_selection import train_test_split\n",
    "\n",
    "digits = load_digits()\n",
    "X = digits.data\n",
    "y = digits.target\n",
    "X_train, X_test, y_train, y_test = train_test_split(X, y, test_size=0.5, random_state=0)\n",
    "\n",
    "logreg = LogisticRegression(max_iter=2000)\n",
    "model = logreg.fit(X_train, y_train)\n",
    "with open('model.pickle', mode='wb') as fp:\n",
    "    pickle.dump(model, fp)"
   ]
  },
  {
   "cell_type": "code",
   "execution_count": null,
   "id": "4169eee4-39d7-4575-aa6f-f42edd8c6530",
   "metadata": {},
   "outputs": [],
   "source": []
  }
 ],
 "metadata": {
  "kernelspec": {
   "display_name": "Python 3 (ipykernel)",
   "language": "python",
   "name": "python3"
  },
  "language_info": {
   "codemirror_mode": {
    "name": "ipython",
    "version": 3
   },
   "file_extension": ".py",
   "mimetype": "text/x-python",
   "name": "python",
   "nbconvert_exporter": "python",
   "pygments_lexer": "ipython3",
   "version": "3.9.7"
  }
 },
 "nbformat": 4,
 "nbformat_minor": 5
}
